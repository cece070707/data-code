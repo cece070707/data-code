{
 "cells": [
  {
   "cell_type": "code",
   "execution_count": 1,
   "id": "worth-mirror",
   "metadata": {},
   "outputs": [
    {
     "name": "stdout",
     "output_type": "stream",
     "text": [
      "ADA Cardano - Data overview:\n"
     ]
    },
    {
     "data": {
      "text/html": [
       "<div>\n",
       "<style scoped>\n",
       "    .dataframe tbody tr th:only-of-type {\n",
       "        vertical-align: middle;\n",
       "    }\n",
       "\n",
       "    .dataframe tbody tr th {\n",
       "        vertical-align: top;\n",
       "    }\n",
       "\n",
       "    .dataframe thead th {\n",
       "        text-align: right;\n",
       "    }\n",
       "</style>\n",
       "<table border=\"1\" class=\"dataframe\">\n",
       "  <thead>\n",
       "    <tr style=\"text-align: right;\">\n",
       "      <th></th>\n",
       "      <th>DateTime</th>\n",
       "      <th>Close</th>\n",
       "    </tr>\n",
       "  </thead>\n",
       "  <tbody>\n",
       "    <tr>\n",
       "      <th>0</th>\n",
       "      <td>11/04/2024 13:00</td>\n",
       "      <td>0.5835</td>\n",
       "    </tr>\n",
       "    <tr>\n",
       "      <th>1</th>\n",
       "      <td>11/04/2024 12:00</td>\n",
       "      <td>0.5862</td>\n",
       "    </tr>\n",
       "    <tr>\n",
       "      <th>2</th>\n",
       "      <td>11/04/2024 11:00</td>\n",
       "      <td>0.5813</td>\n",
       "    </tr>\n",
       "    <tr>\n",
       "      <th>3</th>\n",
       "      <td>11/04/2024 10:00</td>\n",
       "      <td>0.5871</td>\n",
       "    </tr>\n",
       "    <tr>\n",
       "      <th>4</th>\n",
       "      <td>11/04/2024 09:00</td>\n",
       "      <td>0.5884</td>\n",
       "    </tr>\n",
       "    <tr>\n",
       "      <th>8779</th>\n",
       "      <td>11/04/2023 17:00</td>\n",
       "      <td>0.4020</td>\n",
       "    </tr>\n",
       "    <tr>\n",
       "      <th>8780</th>\n",
       "      <td>11/04/2023 16:00</td>\n",
       "      <td>0.4003</td>\n",
       "    </tr>\n",
       "    <tr>\n",
       "      <th>8781</th>\n",
       "      <td>11/04/2023 15:00</td>\n",
       "      <td>0.4055</td>\n",
       "    </tr>\n",
       "    <tr>\n",
       "      <th>8782</th>\n",
       "      <td>11/04/2023 14:00</td>\n",
       "      <td>0.4040</td>\n",
       "    </tr>\n",
       "    <tr>\n",
       "      <th>8783</th>\n",
       "      <td>11/04/2023 13:00</td>\n",
       "      <td>0.4084</td>\n",
       "    </tr>\n",
       "  </tbody>\n",
       "</table>\n",
       "</div>"
      ],
      "text/plain": [
       "              DateTime   Close\n",
       "0     11/04/2024 13:00  0.5835\n",
       "1     11/04/2024 12:00  0.5862\n",
       "2     11/04/2024 11:00  0.5813\n",
       "3     11/04/2024 10:00  0.5871\n",
       "4     11/04/2024 09:00  0.5884\n",
       "8779  11/04/2023 17:00  0.4020\n",
       "8780  11/04/2023 16:00  0.4003\n",
       "8781  11/04/2023 15:00  0.4055\n",
       "8782  11/04/2023 14:00  0.4040\n",
       "8783  11/04/2023 13:00  0.4084"
      ]
     },
     "metadata": {},
     "output_type": "display_data"
    },
    {
     "name": "stdout",
     "output_type": "stream",
     "text": [
      "\n",
      "BCH Bitcoin Cash - Data overview:\n"
     ]
    },
    {
     "data": {
      "text/html": [
       "<div>\n",
       "<style scoped>\n",
       "    .dataframe tbody tr th:only-of-type {\n",
       "        vertical-align: middle;\n",
       "    }\n",
       "\n",
       "    .dataframe tbody tr th {\n",
       "        vertical-align: top;\n",
       "    }\n",
       "\n",
       "    .dataframe thead th {\n",
       "        text-align: right;\n",
       "    }\n",
       "</style>\n",
       "<table border=\"1\" class=\"dataframe\">\n",
       "  <thead>\n",
       "    <tr style=\"text-align: right;\">\n",
       "      <th></th>\n",
       "      <th>DateTime</th>\n",
       "      <th>Close</th>\n",
       "    </tr>\n",
       "  </thead>\n",
       "  <tbody>\n",
       "    <tr>\n",
       "      <th>0</th>\n",
       "      <td>11/04/2024 13:00</td>\n",
       "      <td>602.88</td>\n",
       "    </tr>\n",
       "    <tr>\n",
       "      <th>1</th>\n",
       "      <td>11/04/2024 12:00</td>\n",
       "      <td>609.78</td>\n",
       "    </tr>\n",
       "    <tr>\n",
       "      <th>2</th>\n",
       "      <td>11/04/2024 11:00</td>\n",
       "      <td>605.63</td>\n",
       "    </tr>\n",
       "    <tr>\n",
       "      <th>3</th>\n",
       "      <td>11/04/2024 10:00</td>\n",
       "      <td>611.00</td>\n",
       "    </tr>\n",
       "    <tr>\n",
       "      <th>4</th>\n",
       "      <td>11/04/2024 09:00</td>\n",
       "      <td>614.02</td>\n",
       "    </tr>\n",
       "    <tr>\n",
       "      <th>8289</th>\n",
       "      <td>11/04/2023 18:00</td>\n",
       "      <td>129.63</td>\n",
       "    </tr>\n",
       "    <tr>\n",
       "      <th>8290</th>\n",
       "      <td>11/04/2023 17:00</td>\n",
       "      <td>129.36</td>\n",
       "    </tr>\n",
       "    <tr>\n",
       "      <th>8291</th>\n",
       "      <td>11/04/2023 16:00</td>\n",
       "      <td>129.73</td>\n",
       "    </tr>\n",
       "    <tr>\n",
       "      <th>8292</th>\n",
       "      <td>11/04/2023 15:00</td>\n",
       "      <td>128.97</td>\n",
       "    </tr>\n",
       "    <tr>\n",
       "      <th>8293</th>\n",
       "      <td>11/04/2023 14:00</td>\n",
       "      <td>128.33</td>\n",
       "    </tr>\n",
       "  </tbody>\n",
       "</table>\n",
       "</div>"
      ],
      "text/plain": [
       "              DateTime   Close\n",
       "0     11/04/2024 13:00  602.88\n",
       "1     11/04/2024 12:00  609.78\n",
       "2     11/04/2024 11:00  605.63\n",
       "3     11/04/2024 10:00  611.00\n",
       "4     11/04/2024 09:00  614.02\n",
       "8289  11/04/2023 18:00  129.63\n",
       "8290  11/04/2023 17:00  129.36\n",
       "8291  11/04/2023 16:00  129.73\n",
       "8292  11/04/2023 15:00  128.97\n",
       "8293  11/04/2023 14:00  128.33"
      ]
     },
     "metadata": {},
     "output_type": "display_data"
    },
    {
     "name": "stdout",
     "output_type": "stream",
     "text": [
      "\n",
      "BTC Bitcoin - Data overview:\n"
     ]
    },
    {
     "data": {
      "text/html": [
       "<div>\n",
       "<style scoped>\n",
       "    .dataframe tbody tr th:only-of-type {\n",
       "        vertical-align: middle;\n",
       "    }\n",
       "\n",
       "    .dataframe tbody tr th {\n",
       "        vertical-align: top;\n",
       "    }\n",
       "\n",
       "    .dataframe thead th {\n",
       "        text-align: right;\n",
       "    }\n",
       "</style>\n",
       "<table border=\"1\" class=\"dataframe\">\n",
       "  <thead>\n",
       "    <tr style=\"text-align: right;\">\n",
       "      <th></th>\n",
       "      <th>DateTime</th>\n",
       "      <th>Close</th>\n",
       "    </tr>\n",
       "  </thead>\n",
       "  <tbody>\n",
       "    <tr>\n",
       "      <th>0</th>\n",
       "      <td>11/04/2024 13:00</td>\n",
       "      <td>70729.9850</td>\n",
       "    </tr>\n",
       "    <tr>\n",
       "      <th>1</th>\n",
       "      <td>11/04/2024 12:00</td>\n",
       "      <td>70856.4500</td>\n",
       "    </tr>\n",
       "    <tr>\n",
       "      <th>2</th>\n",
       "      <td>11/04/2024 11:00</td>\n",
       "      <td>70000.2900</td>\n",
       "    </tr>\n",
       "    <tr>\n",
       "      <th>3</th>\n",
       "      <td>11/04/2024 10:00</td>\n",
       "      <td>70438.0050</td>\n",
       "    </tr>\n",
       "    <tr>\n",
       "      <th>4</th>\n",
       "      <td>11/04/2024 09:00</td>\n",
       "      <td>70597.4050</td>\n",
       "    </tr>\n",
       "    <tr>\n",
       "      <th>8753</th>\n",
       "      <td>11/04/2023 17:00</td>\n",
       "      <td>30234.4575</td>\n",
       "    </tr>\n",
       "    <tr>\n",
       "      <th>8754</th>\n",
       "      <td>11/04/2023 16:00</td>\n",
       "      <td>30154.8480</td>\n",
       "    </tr>\n",
       "    <tr>\n",
       "      <th>8755</th>\n",
       "      <td>11/04/2023 15:00</td>\n",
       "      <td>30225.8525</td>\n",
       "    </tr>\n",
       "    <tr>\n",
       "      <th>8756</th>\n",
       "      <td>11/04/2023 14:00</td>\n",
       "      <td>30086.3725</td>\n",
       "    </tr>\n",
       "    <tr>\n",
       "      <th>8757</th>\n",
       "      <td>11/04/2023 13:00</td>\n",
       "      <td>30268.7250</td>\n",
       "    </tr>\n",
       "  </tbody>\n",
       "</table>\n",
       "</div>"
      ],
      "text/plain": [
       "              DateTime       Close\n",
       "0     11/04/2024 13:00  70729.9850\n",
       "1     11/04/2024 12:00  70856.4500\n",
       "2     11/04/2024 11:00  70000.2900\n",
       "3     11/04/2024 10:00  70438.0050\n",
       "4     11/04/2024 09:00  70597.4050\n",
       "8753  11/04/2023 17:00  30234.4575\n",
       "8754  11/04/2023 16:00  30154.8480\n",
       "8755  11/04/2023 15:00  30225.8525\n",
       "8756  11/04/2023 14:00  30086.3725\n",
       "8757  11/04/2023 13:00  30268.7250"
      ]
     },
     "metadata": {},
     "output_type": "display_data"
    },
    {
     "name": "stdout",
     "output_type": "stream",
     "text": [
      "\n",
      "ETH Ethereum - Data overview:\n"
     ]
    },
    {
     "data": {
      "text/html": [
       "<div>\n",
       "<style scoped>\n",
       "    .dataframe tbody tr th:only-of-type {\n",
       "        vertical-align: middle;\n",
       "    }\n",
       "\n",
       "    .dataframe tbody tr th {\n",
       "        vertical-align: top;\n",
       "    }\n",
       "\n",
       "    .dataframe thead th {\n",
       "        text-align: right;\n",
       "    }\n",
       "</style>\n",
       "<table border=\"1\" class=\"dataframe\">\n",
       "  <thead>\n",
       "    <tr style=\"text-align: right;\">\n",
       "      <th></th>\n",
       "      <th>DateTime</th>\n",
       "      <th>Close</th>\n",
       "    </tr>\n",
       "  </thead>\n",
       "  <tbody>\n",
       "    <tr>\n",
       "      <th>0</th>\n",
       "      <td>11/04/2024 13:00</td>\n",
       "      <td>3556.00</td>\n",
       "    </tr>\n",
       "    <tr>\n",
       "      <th>1</th>\n",
       "      <td>11/04/2024 12:00</td>\n",
       "      <td>3557.60</td>\n",
       "    </tr>\n",
       "    <tr>\n",
       "      <th>2</th>\n",
       "      <td>11/04/2024 11:00</td>\n",
       "      <td>3522.23</td>\n",
       "    </tr>\n",
       "    <tr>\n",
       "      <th>3</th>\n",
       "      <td>11/04/2024 10:00</td>\n",
       "      <td>3560.90</td>\n",
       "    </tr>\n",
       "    <tr>\n",
       "      <th>4</th>\n",
       "      <td>11/04/2024 09:00</td>\n",
       "      <td>3578.10</td>\n",
       "    </tr>\n",
       "    <tr>\n",
       "      <th>8763</th>\n",
       "      <td>11/04/2023 17:00</td>\n",
       "      <td>1907.80</td>\n",
       "    </tr>\n",
       "    <tr>\n",
       "      <th>8764</th>\n",
       "      <td>11/04/2023 16:00</td>\n",
       "      <td>1903.45</td>\n",
       "    </tr>\n",
       "    <tr>\n",
       "      <th>8765</th>\n",
       "      <td>11/04/2023 15:00</td>\n",
       "      <td>1915.31</td>\n",
       "    </tr>\n",
       "    <tr>\n",
       "      <th>8766</th>\n",
       "      <td>11/04/2023 14:00</td>\n",
       "      <td>1911.70</td>\n",
       "    </tr>\n",
       "    <tr>\n",
       "      <th>8767</th>\n",
       "      <td>11/04/2023 13:00</td>\n",
       "      <td>1921.80</td>\n",
       "    </tr>\n",
       "  </tbody>\n",
       "</table>\n",
       "</div>"
      ],
      "text/plain": [
       "              DateTime    Close\n",
       "0     11/04/2024 13:00  3556.00\n",
       "1     11/04/2024 12:00  3557.60\n",
       "2     11/04/2024 11:00  3522.23\n",
       "3     11/04/2024 10:00  3560.90\n",
       "4     11/04/2024 09:00  3578.10\n",
       "8763  11/04/2023 17:00  1907.80\n",
       "8764  11/04/2023 16:00  1903.45\n",
       "8765  11/04/2023 15:00  1915.31\n",
       "8766  11/04/2023 14:00  1911.70\n",
       "8767  11/04/2023 13:00  1921.80"
      ]
     },
     "metadata": {},
     "output_type": "display_data"
    },
    {
     "name": "stdout",
     "output_type": "stream",
     "text": [
      "\n",
      "LTC Litecoin - Data overview:\n"
     ]
    },
    {
     "data": {
      "text/html": [
       "<div>\n",
       "<style scoped>\n",
       "    .dataframe tbody tr th:only-of-type {\n",
       "        vertical-align: middle;\n",
       "    }\n",
       "\n",
       "    .dataframe tbody tr th {\n",
       "        vertical-align: top;\n",
       "    }\n",
       "\n",
       "    .dataframe thead th {\n",
       "        text-align: right;\n",
       "    }\n",
       "</style>\n",
       "<table border=\"1\" class=\"dataframe\">\n",
       "  <thead>\n",
       "    <tr style=\"text-align: right;\">\n",
       "      <th></th>\n",
       "      <th>DateTime</th>\n",
       "      <th>Close</th>\n",
       "    </tr>\n",
       "  </thead>\n",
       "  <tbody>\n",
       "    <tr>\n",
       "      <th>0</th>\n",
       "      <td>11/04/2024 13:00</td>\n",
       "      <td>95.54</td>\n",
       "    </tr>\n",
       "    <tr>\n",
       "      <th>1</th>\n",
       "      <td>11/04/2024 12:00</td>\n",
       "      <td>96.75</td>\n",
       "    </tr>\n",
       "    <tr>\n",
       "      <th>2</th>\n",
       "      <td>11/04/2024 11:00</td>\n",
       "      <td>95.96</td>\n",
       "    </tr>\n",
       "    <tr>\n",
       "      <th>3</th>\n",
       "      <td>11/04/2024 10:00</td>\n",
       "      <td>96.60</td>\n",
       "    </tr>\n",
       "    <tr>\n",
       "      <th>4</th>\n",
       "      <td>11/04/2024 09:00</td>\n",
       "      <td>96.97</td>\n",
       "    </tr>\n",
       "    <tr>\n",
       "      <th>8764</th>\n",
       "      <td>11/04/2023 17:00</td>\n",
       "      <td>94.92</td>\n",
       "    </tr>\n",
       "    <tr>\n",
       "      <th>8765</th>\n",
       "      <td>11/04/2023 16:00</td>\n",
       "      <td>94.93</td>\n",
       "    </tr>\n",
       "    <tr>\n",
       "      <th>8766</th>\n",
       "      <td>11/04/2023 15:00</td>\n",
       "      <td>95.30</td>\n",
       "    </tr>\n",
       "    <tr>\n",
       "      <th>8767</th>\n",
       "      <td>11/04/2023 14:00</td>\n",
       "      <td>94.83</td>\n",
       "    </tr>\n",
       "    <tr>\n",
       "      <th>8768</th>\n",
       "      <td>11/04/2023 13:00</td>\n",
       "      <td>95.25</td>\n",
       "    </tr>\n",
       "  </tbody>\n",
       "</table>\n",
       "</div>"
      ],
      "text/plain": [
       "              DateTime  Close\n",
       "0     11/04/2024 13:00  95.54\n",
       "1     11/04/2024 12:00  96.75\n",
       "2     11/04/2024 11:00  95.96\n",
       "3     11/04/2024 10:00  96.60\n",
       "4     11/04/2024 09:00  96.97\n",
       "8764  11/04/2023 17:00  94.92\n",
       "8765  11/04/2023 16:00  94.93\n",
       "8766  11/04/2023 15:00  95.30\n",
       "8767  11/04/2023 14:00  94.83\n",
       "8768  11/04/2023 13:00  95.25"
      ]
     },
     "metadata": {},
     "output_type": "display_data"
    },
    {
     "name": "stdout",
     "output_type": "stream",
     "text": [
      "\n",
      "XRP Ripple - Data overview:\n"
     ]
    },
    {
     "data": {
      "text/html": [
       "<div>\n",
       "<style scoped>\n",
       "    .dataframe tbody tr th:only-of-type {\n",
       "        vertical-align: middle;\n",
       "    }\n",
       "\n",
       "    .dataframe tbody tr th {\n",
       "        vertical-align: top;\n",
       "    }\n",
       "\n",
       "    .dataframe thead th {\n",
       "        text-align: right;\n",
       "    }\n",
       "</style>\n",
       "<table border=\"1\" class=\"dataframe\">\n",
       "  <thead>\n",
       "    <tr style=\"text-align: right;\">\n",
       "      <th></th>\n",
       "      <th>DateTime</th>\n",
       "      <th>Close</th>\n",
       "    </tr>\n",
       "  </thead>\n",
       "  <tbody>\n",
       "    <tr>\n",
       "      <th>0</th>\n",
       "      <td>11/04/2024 13:00</td>\n",
       "      <td>0.60726</td>\n",
       "    </tr>\n",
       "    <tr>\n",
       "      <th>1</th>\n",
       "      <td>11/04/2024 12:00</td>\n",
       "      <td>0.61397</td>\n",
       "    </tr>\n",
       "    <tr>\n",
       "      <th>2</th>\n",
       "      <td>11/04/2024 11:00</td>\n",
       "      <td>0.60916</td>\n",
       "    </tr>\n",
       "    <tr>\n",
       "      <th>3</th>\n",
       "      <td>11/04/2024 10:00</td>\n",
       "      <td>0.61388</td>\n",
       "    </tr>\n",
       "    <tr>\n",
       "      <th>4</th>\n",
       "      <td>11/04/2024 09:00</td>\n",
       "      <td>0.61599</td>\n",
       "    </tr>\n",
       "    <tr>\n",
       "      <th>8763</th>\n",
       "      <td>11/04/2023 17:00</td>\n",
       "      <td>0.51457</td>\n",
       "    </tr>\n",
       "    <tr>\n",
       "      <th>8764</th>\n",
       "      <td>11/04/2023 16:00</td>\n",
       "      <td>0.51409</td>\n",
       "    </tr>\n",
       "    <tr>\n",
       "      <th>8765</th>\n",
       "      <td>11/04/2023 15:00</td>\n",
       "      <td>0.51959</td>\n",
       "    </tr>\n",
       "    <tr>\n",
       "      <th>8766</th>\n",
       "      <td>11/04/2023 14:00</td>\n",
       "      <td>0.51857</td>\n",
       "    </tr>\n",
       "    <tr>\n",
       "      <th>8767</th>\n",
       "      <td>11/04/2023 13:00</td>\n",
       "      <td>0.52324</td>\n",
       "    </tr>\n",
       "  </tbody>\n",
       "</table>\n",
       "</div>"
      ],
      "text/plain": [
       "              DateTime    Close\n",
       "0     11/04/2024 13:00  0.60726\n",
       "1     11/04/2024 12:00  0.61397\n",
       "2     11/04/2024 11:00  0.60916\n",
       "3     11/04/2024 10:00  0.61388\n",
       "4     11/04/2024 09:00  0.61599\n",
       "8763  11/04/2023 17:00  0.51457\n",
       "8764  11/04/2023 16:00  0.51409\n",
       "8765  11/04/2023 15:00  0.51959\n",
       "8766  11/04/2023 14:00  0.51857\n",
       "8767  11/04/2023 13:00  0.52324"
      ]
     },
     "metadata": {},
     "output_type": "display_data"
    },
    {
     "name": "stdout",
     "output_type": "stream",
     "text": [
      "\n",
      "Telegram Sentiment - Data overview:\n"
     ]
    },
    {
     "data": {
      "text/html": [
       "<div>\n",
       "<style scoped>\n",
       "    .dataframe tbody tr th:only-of-type {\n",
       "        vertical-align: middle;\n",
       "    }\n",
       "\n",
       "    .dataframe tbody tr th {\n",
       "        vertical-align: top;\n",
       "    }\n",
       "\n",
       "    .dataframe thead th {\n",
       "        text-align: right;\n",
       "    }\n",
       "</style>\n",
       "<table border=\"1\" class=\"dataframe\">\n",
       "  <thead>\n",
       "    <tr style=\"text-align: right;\">\n",
       "      <th></th>\n",
       "      <th>channel</th>\n",
       "      <th>id</th>\n",
       "      <th>text</th>\n",
       "      <th>date</th>\n",
       "      <th>views</th>\n",
       "      <th>scores</th>\n",
       "      <th>compound</th>\n",
       "      <th>sentiment_type</th>\n",
       "    </tr>\n",
       "  </thead>\n",
       "  <tbody>\n",
       "    <tr>\n",
       "      <th>0</th>\n",
       "      <td>binancesignals</td>\n",
       "      <td>1382</td>\n",
       "      <td>bitcoin market cap surpasses 13 trillion</td>\n",
       "      <td>04/03/2024 16:33</td>\n",
       "      <td>6319</td>\n",
       "      <td>{'neg': 0.0, 'neu': 1.0, 'pos': 0.0, 'compound...</td>\n",
       "      <td>0.0000</td>\n",
       "      <td>NEUTRAL</td>\n",
       "    </tr>\n",
       "    <tr>\n",
       "      <th>1</th>\n",
       "      <td>binancesignals</td>\n",
       "      <td>1381</td>\n",
       "      <td>update atausdt long leverage cross x10 smashed...</td>\n",
       "      <td>04/03/2024 11:48</td>\n",
       "      <td>6847</td>\n",
       "      <td>{'neg': 0.0, 'neu': 0.751, 'pos': 0.249, 'comp...</td>\n",
       "      <td>0.5106</td>\n",
       "      <td>POSITIVE</td>\n",
       "    </tr>\n",
       "    <tr>\n",
       "      <th>2</th>\n",
       "      <td>binancesignals</td>\n",
       "      <td>1380</td>\n",
       "      <td>altcoins started make move bitcoin total marke...</td>\n",
       "      <td>03/03/2024 19:53</td>\n",
       "      <td>8066</td>\n",
       "      <td>{'neg': 0.0, 'neu': 1.0, 'pos': 0.0, 'compound...</td>\n",
       "      <td>0.0000</td>\n",
       "      <td>NEUTRAL</td>\n",
       "    </tr>\n",
       "    <tr>\n",
       "      <th>3</th>\n",
       "      <td>binancesignals</td>\n",
       "      <td>1379</td>\n",
       "      <td>coin maticusdt timeframe 1d observation broken...</td>\n",
       "      <td>03/03/2024 17:52</td>\n",
       "      <td>7740</td>\n",
       "      <td>{'neg': 0.129, 'neu': 0.871, 'pos': 0.0, 'comp...</td>\n",
       "      <td>-0.4767</td>\n",
       "      <td>NEGATIVE</td>\n",
       "    </tr>\n",
       "    <tr>\n",
       "      <th>4</th>\n",
       "      <td>binancesignals</td>\n",
       "      <td>1378</td>\n",
       "      <td>coin aptusdt timeframe 1d observation broken m...</td>\n",
       "      <td>03/03/2024 17:50</td>\n",
       "      <td>7668</td>\n",
       "      <td>{'neg': 0.154, 'neu': 0.846, 'pos': 0.0, 'comp...</td>\n",
       "      <td>-0.4767</td>\n",
       "      <td>NEGATIVE</td>\n",
       "    </tr>\n",
       "    <tr>\n",
       "      <th>14707</th>\n",
       "      <td>wolfoftrading</td>\n",
       "      <td>1184</td>\n",
       "      <td>ethusdt 1hr could possibly see continuation do...</td>\n",
       "      <td>04/12/2022 19:32</td>\n",
       "      <td>8927</td>\n",
       "      <td>{'neg': 0.159, 'neu': 0.771, 'pos': 0.07, 'com...</td>\n",
       "      <td>-0.4215</td>\n",
       "      <td>NEGATIVE</td>\n",
       "    </tr>\n",
       "    <tr>\n",
       "      <th>14708</th>\n",
       "      <td>wolfoftrading</td>\n",
       "      <td>1183</td>\n",
       "      <td>egldusdt 1hr reaching first target broke raisi...</td>\n",
       "      <td>04/12/2022 19:14</td>\n",
       "      <td>8597</td>\n",
       "      <td>{'neg': 0.241, 'neu': 0.603, 'pos': 0.155, 'co...</td>\n",
       "      <td>-0.2500</td>\n",
       "      <td>NEGATIVE</td>\n",
       "    </tr>\n",
       "    <tr>\n",
       "      <th>14709</th>\n",
       "      <td>wolfoftrading</td>\n",
       "      <td>1182</td>\n",
       "      <td>first target reached 40 x20 leverage</td>\n",
       "      <td>03/12/2022 17:01</td>\n",
       "      <td>8540</td>\n",
       "      <td>{'neg': 0.0, 'neu': 0.781, 'pos': 0.219, 'comp...</td>\n",
       "      <td>0.1027</td>\n",
       "      <td>POSITIVE</td>\n",
       "    </tr>\n",
       "    <tr>\n",
       "      <th>14710</th>\n",
       "      <td>wolfoftrading</td>\n",
       "      <td>1180</td>\n",
       "      <td>egldusdt formed adam eve bullish pattern plus ...</td>\n",
       "      <td>03/12/2022 12:03</td>\n",
       "      <td>8450</td>\n",
       "      <td>{'neg': 0.0, 'neu': 0.884, 'pos': 0.116, 'comp...</td>\n",
       "      <td>0.4404</td>\n",
       "      <td>POSITIVE</td>\n",
       "    </tr>\n",
       "    <tr>\n",
       "      <th>14711</th>\n",
       "      <td>wolfoftrading</td>\n",
       "      <td>1179</td>\n",
       "      <td>hello wolf first december week went profitable...</td>\n",
       "      <td>02/12/2022 14:16</td>\n",
       "      <td>8310</td>\n",
       "      <td>{'neg': 0.0, 'neu': 0.674, 'pos': 0.326, 'comp...</td>\n",
       "      <td>0.4404</td>\n",
       "      <td>POSITIVE</td>\n",
       "    </tr>\n",
       "  </tbody>\n",
       "</table>\n",
       "</div>"
      ],
      "text/plain": [
       "              channel    id  \\\n",
       "0      binancesignals  1382   \n",
       "1      binancesignals  1381   \n",
       "2      binancesignals  1380   \n",
       "3      binancesignals  1379   \n",
       "4      binancesignals  1378   \n",
       "14707   wolfoftrading  1184   \n",
       "14708   wolfoftrading  1183   \n",
       "14709   wolfoftrading  1182   \n",
       "14710   wolfoftrading  1180   \n",
       "14711   wolfoftrading  1179   \n",
       "\n",
       "                                                    text              date  \\\n",
       "0               bitcoin market cap surpasses 13 trillion  04/03/2024 16:33   \n",
       "1      update atausdt long leverage cross x10 smashed...  04/03/2024 11:48   \n",
       "2      altcoins started make move bitcoin total marke...  03/03/2024 19:53   \n",
       "3      coin maticusdt timeframe 1d observation broken...  03/03/2024 17:52   \n",
       "4      coin aptusdt timeframe 1d observation broken m...  03/03/2024 17:50   \n",
       "14707  ethusdt 1hr could possibly see continuation do...  04/12/2022 19:32   \n",
       "14708  egldusdt 1hr reaching first target broke raisi...  04/12/2022 19:14   \n",
       "14709               first target reached 40 x20 leverage  03/12/2022 17:01   \n",
       "14710  egldusdt formed adam eve bullish pattern plus ...  03/12/2022 12:03   \n",
       "14711  hello wolf first december week went profitable...  02/12/2022 14:16   \n",
       "\n",
       "       views                                             scores  compound  \\\n",
       "0       6319  {'neg': 0.0, 'neu': 1.0, 'pos': 0.0, 'compound...    0.0000   \n",
       "1       6847  {'neg': 0.0, 'neu': 0.751, 'pos': 0.249, 'comp...    0.5106   \n",
       "2       8066  {'neg': 0.0, 'neu': 1.0, 'pos': 0.0, 'compound...    0.0000   \n",
       "3       7740  {'neg': 0.129, 'neu': 0.871, 'pos': 0.0, 'comp...   -0.4767   \n",
       "4       7668  {'neg': 0.154, 'neu': 0.846, 'pos': 0.0, 'comp...   -0.4767   \n",
       "14707   8927  {'neg': 0.159, 'neu': 0.771, 'pos': 0.07, 'com...   -0.4215   \n",
       "14708   8597  {'neg': 0.241, 'neu': 0.603, 'pos': 0.155, 'co...   -0.2500   \n",
       "14709   8540  {'neg': 0.0, 'neu': 0.781, 'pos': 0.219, 'comp...    0.1027   \n",
       "14710   8450  {'neg': 0.0, 'neu': 0.884, 'pos': 0.116, 'comp...    0.4404   \n",
       "14711   8310  {'neg': 0.0, 'neu': 0.674, 'pos': 0.326, 'comp...    0.4404   \n",
       "\n",
       "      sentiment_type  \n",
       "0            NEUTRAL  \n",
       "1           POSITIVE  \n",
       "2            NEUTRAL  \n",
       "3           NEGATIVE  \n",
       "4           NEGATIVE  \n",
       "14707       NEGATIVE  \n",
       "14708       NEGATIVE  \n",
       "14709       POSITIVE  \n",
       "14710       POSITIVE  \n",
       "14711       POSITIVE  "
      ]
     },
     "metadata": {},
     "output_type": "display_data"
    }
   ],
   "source": [
    "import pandas as pd\n",
    "from IPython.display import display\n",
    "\n",
    "base_path = '/files/Project/'\n",
    "\n",
    "# Load cryptocurrency data, skipping the first line and renaming the columns\n",
    "def load_crypto_data(file_path):\n",
    "    df = pd.read_csv(file_path, delimiter=';', decimal=',', skiprows=1)\n",
    "    df.rename(columns={df.columns[0]: 'DateTime', df.columns[1]: 'Close'}, inplace=True)\n",
    "    return df\n",
    "\n",
    "# Load Telegram data, skipping the first column\n",
    "def load_telegram_data(file_path):\n",
    "    df = pd.read_csv(file_path, delimiter=';', decimal=',')\n",
    "    df.drop(df.columns[0], axis=1, inplace=True)  # Remove the first column\n",
    "    return df\n",
    "\n",
    "# Combine the first and last rows into a single DataFrame\n",
    "def combine_head_tail(df, num_rows=5):\n",
    "    return pd.concat([df.head(num_rows), df.tail(num_rows)])\n",
    "\n",
    "try:\n",
    "    ada_df = load_crypto_data(base_path + 'ADA_Cardano.csv')\n",
    "    bch_df = load_crypto_data(base_path + 'BCH_Bitcoin_cash.csv')\n",
    "    btc_df = load_crypto_data(base_path + 'BTC_Bitcoin.csv')\n",
    "    eth_df = load_crypto_data(base_path + 'ETH_Ethereum.csv')\n",
    "    ltc_df = load_crypto_data(base_path + 'LTC_Litecoin.csv')\n",
    "    xrp_df = load_crypto_data(base_path + 'XRP_Ripple.csv')\n",
    "    telegram_df = load_telegram_data(base_path + 'Telegram_sentiment.csv')\n",
    "\n",
    "    # Display combined data for each cryptocurrency\n",
    "    print(\"ADA Cardano - Data overview:\")\n",
    "    display(combine_head_tail(ada_df))\n",
    "    print(\"\\nBCH Bitcoin Cash - Data overview:\")\n",
    "    display(combine_head_tail(bch_df))\n",
    "    print(\"\\nBTC Bitcoin - Data overview:\")\n",
    "    display(combine_head_tail(btc_df))\n",
    "    print(\"\\nETH Ethereum - Data overview:\")\n",
    "    display(combine_head_tail(eth_df))\n",
    "    print(\"\\nLTC Litecoin - Data overview:\")\n",
    "    display(combine_head_tail(ltc_df))\n",
    "    print(\"\\nXRP Ripple - Data overview:\")\n",
    "    display(combine_head_tail(xrp_df))\n",
    "    \n",
    "    # Display combined data for Telegram Sentiment\n",
    "    print(\"\\nTelegram Sentiment - Data overview:\")\n",
    "    display(combine_head_tail(telegram_df))\n",
    "    \n",
    "except pd.errors.ParserError as e:\n",
    "    print(\"A parsing error occurred:\", e)\n",
    "except FileNotFoundError as e:\n",
    "    print(\"File not found:\", e)\n",
    "except Exception as e:\n",
    "    print(\"An unexpected error occurred:\", e)\n"
   ]
  },
  {
   "cell_type": "code",
   "execution_count": 2,
   "id": "aquatic-serbia",
   "metadata": {},
   "outputs": [
    {
     "name": "stdout",
     "output_type": "stream",
     "text": [
      "Mentions of cryptocurrencies in Telegram messages:\n",
      "Cardano: 200\n",
      "Bitcoin Cash: 84\n",
      "Bitcoin: 2359\n",
      "Ethereum: 1306\n",
      "Litecoin: 364\n",
      "Ripple: 364\n"
     ]
    }
   ],
   "source": [
    "import re\n",
    "\n",
    "# Function to count mentions of each cryptocurrency in the Telegram data\n",
    "def count_crypto_mentions(df, crypto_keywords):\n",
    "    # Convert all text to lowercase for case-insensitive matching\n",
    "    df['text'] = df['text'].str.lower()\n",
    "    \n",
    "    # Dictionary to store the counts\n",
    "    counts = {}\n",
    "    \n",
    "    # Count occurrences of each cryptocurrency keyword\n",
    "    for crypto, keywords in crypto_keywords.items():\n",
    "        pattern = '|'.join(keywords)  # Create a pattern for each crypto\n",
    "        counts[crypto] = df['text'].str.contains(pattern).sum()\n",
    "        \n",
    "    return counts\n",
    "\n",
    "# Define the keywords for each cryptocurrency\n",
    "crypto_keywords = {\n",
    "    'Cardano': ['ada'],\n",
    "    'Bitcoin Cash': ['bch'],\n",
    "    'Bitcoin': ['btc'],\n",
    "    'Ethereum': ['eth'],\n",
    "    'Litecoin': ['ltc'],\n",
    "    'Ripple': ['xrp']\n",
    "}\n",
    "\n",
    "# Assuming you have already loaded your Telegram DataFrame as telegram_df\n",
    "try:\n",
    "    # Count the mentions of each cryptocurrency\n",
    "    mention_counts = count_crypto_mentions(telegram_df, crypto_keywords)\n",
    "    \n",
    "    # Print the result\n",
    "    print(\"Mentions of cryptocurrencies in Telegram messages:\")\n",
    "    for crypto, count in mention_counts.items():\n",
    "        print(f\"{crypto}: {count}\")\n",
    "\n",
    "except pd.errors.ParserError as e:\n",
    "    print(\"Parsing error:\", e)\n",
    "except FileNotFoundError as e:\n",
    "    print(\"File not found:\", e)\n",
    "except Exception as e:\n",
    "    print(\"An unexpected error occurred:\", e)\n",
    "\n"
   ]
  },
  {
   "cell_type": "code",
   "execution_count": 3,
   "id": "confident-warren",
   "metadata": {},
   "outputs": [
    {
     "data": {
      "image/png": "[encoded data removed]",
      "text/plain": [
       "<Figure size 720x432 with 1 Axes>"
      ]
     },
     "metadata": {
      "needs_background": "light"
     },
     "output_type": "display_data"
    }
   ],
   "source": [
    "import matplotlib.pyplot as plt\n",
    "\n",
    "# Assuming mention_counts is a dictionary with cryptocurrencies as keys and counts as values\n",
    "mention_counts = {\n",
    "    'Cardano': 200,\n",
    "    'Bitcoin Cash': 84,\n",
    "    'Bitcoin': 2359,\n",
    "    'Ethereum': 1306,\n",
    "    'Litecoin': 364,\n",
    "    'Ripple': 364\n",
    "}\n",
    "\n",
    "# Create a bar chart\n",
    "fig, ax = plt.subplots(figsize=(10, 6))  # Set figure size\n",
    "cryptos = list(mention_counts.keys())\n",
    "counts = list(mention_counts.values())\n",
    "\n",
    "ax.bar(cryptos, counts, color='orange')  # Set the bar color to orange\n",
    "\n",
    "# Adding title and labels\n",
    "ax.set_title('Mentions of Cryptocurrencies in Telegram Messages', fontsize=15)\n",
    "ax.set_xlabel('Cryptocurrency', fontsize=12)\n",
    "ax.set_ylabel('Number of Mentions', fontsize=12)\n",
    "\n",
    "# Rotating the x-axis labels for better readability\n",
    "plt.xticks(rotation=45)\n",
    "\n",
    "# Display the plot\n",
    "plt.show()\n"
   ]
  },
  {
   "cell_type": "code",
   "execution_count": 6,
   "id": "friendly-thesis",
   "metadata": {},
   "outputs": [
    {
     "data": {
      "image/png": "[encoded data removed]",
      "text/plain": [
       "<Figure size 1008x504 with 1 Axes>"
      ]
     },
     "metadata": {
      "needs_background": "light"
     },
     "output_type": "display_data"
    }
   ],
   "source": [
    "# Count mentions of each cryptocurrency per day\n",
    "def count_daily_mentions(df, keywords):\n",
    "    # Create a regular expression from the list of keywords\n",
    "    regex_pattern = '|'.join([re.escape(word) for word in keywords])\n",
    "    # Filter messages containing the keywords (case insensitive)\n",
    "    daily_mentions = df[df['text'].str.contains(regex_pattern, case=False, na=False, regex=True)]\n",
    "    # Group by date and count occurrences\n",
    "    daily_counts = daily_mentions.groupby('date').size()\n",
    "    return daily_counts\n",
    "\n",
    "# Example of keywords associated with cryptocurrencies\n",
    "keywords_per_coin = {\n",
    "    'Bitcoin': ['bitcoin', 'btc', 'coin'],\n",
    "    'Ethereum': ['ethereum', 'ETH', 'eth', 'Altcoin', 'altcoins', 'altcoin'],\n",
    "}\n",
    "\n",
    "# Analyze for Bitcoin and Ethereum\n",
    "bitcoin_counts = count_daily_mentions(telegram_df, keywords_per_coin['Bitcoin'])\n",
    "ethereum_counts = count_daily_mentions(telegram_df, keywords_per_coin['Ethereum'])\n",
    "\n",
    "# Create a chart to visualize daily mentions\n",
    "plt.figure(figsize=(14, 7))\n",
    "# Convert indexes to lists and values to lists\n",
    "bitcoin_dates = bitcoin_counts.index.tolist()\n",
    "bitcoin_values = bitcoin_counts.values.tolist()\n",
    "ethereum_dates = ethereum_counts.index.tolist()\n",
    "ethereum_values = ethereum_counts.values.tolist()\n",
    "\n",
    "# Draw the plots with specified colors\n",
    "plt.plot(bitcoin_dates, bitcoin_values, label='Bitcoin', marker='o', color='blue')\n",
    "plt.plot(ethereum_dates, ethereum_values, label='Ethereum', marker='o', color='orange')\n",
    "\n",
    "plt.title('Daily Mentions of Bitcoin and Ethereum')\n",
    "plt.xlabel('Date')\n",
    "plt.ylabel('Number of Mentions')\n",
    "plt.legend()\n",
    "plt.grid(True)\n",
    "plt.xticks(rotation=45)\n",
    "plt.tight_layout()\n",
    "plt.show()\n"
   ]
  },
  {
   "cell_type": "code",
   "execution_count": 7,
   "id": "cooked-thought",
   "metadata": {},
   "outputs": [
    {
     "name": "stdout",
     "output_type": "stream",
     "text": [
      "Total messages per channel:\n",
      "channel\n",
      "binancekillers            5275\n",
      "BitcoinBullets            3792\n",
      "binancesignals            2482\n",
      "wolfoftrading             1732\n",
      "VerifiedCryptoNews         821\n",
      "CryptoScanner100eyes       593\n",
      "universalcryptosignals      17\n",
      "Name: count, dtype: int64\n",
      "\n",
      "Average compound scores per channel:\n",
      "channel\n",
      "BitcoinBullets            0.416527\n",
      "CryptoScanner100eyes      0.310521\n",
      "VerifiedCryptoNews        0.200069\n",
      "binancekillers            0.442448\n",
      "binancesignals            0.110529\n",
      "universalcryptosignals    0.532700\n",
      "wolfoftrading             0.126881\n",
      "Name: compound, dtype: float64\n"
     ]
    },
    {
     "data": {
      "image/png": "[encoded data removed]",
      "text/plain": [
       "<Figure size 720x432 with 1 Axes>"
      ]
     },
     "metadata": {
      "needs_background": "light"
     },
     "output_type": "display_data"
    },
    {
     "data": {
      "image/png": "[encoded data removed]",
      "text/plain": [
       "<Figure size 720x432 with 1 Axes>"
      ]
     },
     "metadata": {
      "needs_background": "light"
     },
     "output_type": "display_data"
    }
   ],
   "source": [
    "# Calculate the total messages per channel\n",
    "messages_per_channel = telegram_df['channel'].value_counts()\n",
    "\n",
    "# Calculate the average compound scores per channel\n",
    "average_compound_per_channel = telegram_df.groupby('channel')['compound'].mean()\n",
    "\n",
    "# Display the results\n",
    "print(\"Total messages per channel:\")\n",
    "print(messages_per_channel)\n",
    "print(\"\\nAverage compound scores per channel:\")\n",
    "print(average_compound_per_channel)\n",
    "\n",
    "# Visualization of the number of messages per channel\n",
    "plt.figure(figsize=(10, 6))\n",
    "messages_per_channel.plot(kind='bar', color='blue')  # Blue color for visualization\n",
    "plt.title('Number of Messages per Channel')\n",
    "plt.xlabel('Channel')\n",
    "plt.ylabel('Number of Messages')\n",
    "plt.show()\n",
    "\n",
    "# Visualization of the average compound scores per channel\n",
    "plt.figure(figsize=(10, 6))\n",
    "average_compound_per_channel.plot(kind='bar', color='orange')  # Orange color for visualization\n",
    "plt.title('Average Compound Scores per Channel')\n",
    "plt.xlabel('Channel')\n",
    "plt.ylabel('Average Compound Score')\n",
    "plt.show()\n"
   ]
  },
  {
   "cell_type": "code",
   "execution_count": 9,
   "id": "aquatic-latino",
   "metadata": {},
   "outputs": [
    {
     "data": {
      "application/vnd.plotly.v1+json": {
       "config": {
        "plotlyServerURL": "https://plot.ly"
       },
       "data": [
        {
         "alignmentgroup": "True",
         "hovertemplate": "Sentiment Type=NEGATIVE<br>Channel=%{x}<br>Number of Messages=%{y}<extra></extra>",
         "legendgroup": "NEGATIVE",
         "marker": {
          "color": "red",
          "pattern": {
           "shape": ""
          }
         },
         "name": "NEGATIVE",
         "offsetgroup": "NEGATIVE",
         "orientation": "v",
         "showlegend": true,
         "textposition": "auto",
         "type": "bar",
         "x": [
          "BitcoinBullets",
          "VerifiedCryptoNews",
          "binancekillers",
          "binancesignals",
          "universalcryptosignals",
          "wolfoftrading"
         ],
         "xaxis": "x",
         "y": [
          285,
          149,
          427,
          704,
          4,
          475
         ],
         "yaxis": "y"
        },
        {
         "alignmentgroup": "True",
         "hovertemplate": "Sentiment Type=NEUTRAL<br>Channel=%{x}<br>Number of Messages=%{y}<extra></extra>",
         "legendgroup": "NEUTRAL",
         "marker": {
          "color": "orange",
          "pattern": {
           "shape": ""
          }
         },
         "name": "NEUTRAL",
         "offsetgroup": "NEUTRAL",
         "orientation": "v",
         "showlegend": true,
         "textposition": "auto",
         "type": "bar",
         "x": [
          "BitcoinBullets",
          "CryptoScanner100eyes",
          "VerifiedCryptoNews",
          "binancekillers",
          "binancesignals",
          "wolfoftrading"
         ],
         "xaxis": "x",
         "y": [
          1216,
          249,
          222,
          1116,
          642,
          434
         ],
         "yaxis": "y"
        },
        {
         "alignmentgroup": "True",
         "hovertemplate": "Sentiment Type=POSITIVE<br>Channel=%{x}<br>Number of Messages=%{y}<extra></extra>",
         "legendgroup": "POSITIVE",
         "marker": {
          "color": "green",
          "pattern": {
           "shape": ""
          }
         },
         "name": "POSITIVE",
         "offsetgroup": "POSITIVE",
         "orientation": "v",
         "showlegend": true,
         "textposition": "auto",
         "type": "bar",
         "x": [
          "BitcoinBullets",
          "CryptoScanner100eyes",
          "VerifiedCryptoNews",
          "binancekillers",
          "binancesignals",
          "universalcryptosignals",
          "wolfoftrading"
         ],
         "xaxis": "x",
         "y": [
          2291,
          344,
          450,
          3732,
          1136,
          13,
          823
         ],
         "yaxis": "y"
        }
       ],
       "layout": {
        "autosize": true,
        "barmode": "stack",
        "legend": {
         "title": {
          "text": "Sentiment Type"
         },
         "tracegroupgap": 0
        },
        "template": {
         "data": {
          "bar": [
           {
            "error_x": {
             "color": "#2a3f5f"
            },
            "error_y": {
             "color": "#2a3f5f"
            },
            "marker": {
             "line": {
              "color": "#E5ECF6",
              "width": 0.5
             },
             "pattern": {
              "fillmode": "overlay",
              "size": 10,
              "solidity": 0.2
             }
            },
            "type": "bar"
           }
          ],
          "barpolar": [
           {
            "marker": {
             "line": {
              "color": "#E5ECF6",
              "width": 0.5
             },
             "pattern": {
              "fillmode": "overlay",
              "size": 10,
              "solidity": 0.2
             }
            },
            "type": "barpolar"
           }
          ],
          "carpet": [
           {
            "aaxis": {
             "endlinecolor": "#2a3f5f",
             "gridcolor": "white",
             "linecolor": "white",
             "minorgridcolor": "white",
             "startlinecolor": "#2a3f5f"
            },
            "baxis": {
             "endlinecolor": "#2a3f5f",
             "gridcolor": "white",
             "linecolor": "white",
             "minorgridcolor": "white",
             "startlinecolor": "#2a3f5f"
            },
            "type": "carpet"
           }
          ],
          "choropleth": [
           {
            "colorbar": {
             "outlinewidth": 0,
             "ticks": ""
            },
            "type": "choropleth"
           }
          ],
          "contour": [
           {
            "colorbar": {
             "outlinewidth": 0,
             "ticks": ""
            },
            "colorscale": [
             [
              0,
              "#0d0887"
             ],
             [
              0.1111111111111111,
              "#46039f"
             ],
             [
              0.2222222222222222,
              "#7201a8"
             ],
             [
              0.3333333333333333,
              "#9c179e"
             ],
             [
              0.4444444444444444,
              "#bd3786"
             ],
             [
              0.5555555555555556,
              "#d8576b"
             ],
             [
              0.6666666666666666,
              "#ed7953"
             ],
             [
              0.7777777777777778,
              "#fb9f3a"
             ],
             [
              0.8888888888888888,
              "#fdca26"
             ],
             [
              1,
              "#f0f921"
             ]
            ],
            "type": "contour"
           }
          ],
          "contourcarpet": [
           {
            "colorbar": {
             "outlinewidth": 0,
             "ticks": ""
            },
            "type": "contourcarpet"
           }
          ],
          "heatmap": [
           {
            "colorbar": {
             "outlinewidth": 0,
             "ticks": ""
            },
            "colorscale": [
             [
              0,
              "#0d0887"
             ],
             [
              0.1111111111111111,
              "#46039f"
             ],
             [
              0.2222222222222222,
              "#7201a8"
             ],
             [
              0.3333333333333333,
              "#9c179e"
             ],
             [
              0.4444444444444444,
              "#bd3786"
             ],
             [
              0.5555555555555556,
              "#d8576b"
             ],
             [
              0.6666666666666666,
              "#ed7953"
             ],
             [
              0.7777777777777778,
              "#fb9f3a"
             ],
             [
              0.8888888888888888,
              "#fdca26"
             ],
             [
              1,
              "#f0f921"
             ]
            ],
            "type": "heatmap"
           }
          ],
          "heatmapgl": [
           {
            "colorbar": {
             "outlinewidth": 0,
             "ticks": ""
            },
            "colorscale": [
             [
              0,
              "#0d0887"
             ],
             [
              0.1111111111111111,
              "#46039f"
             ],
             [
              0.2222222222222222,
              "#7201a8"
             ],
             [
              0.3333333333333333,
              "#9c179e"
             ],
             [
              0.4444444444444444,
              "#bd3786"
             ],
             [
              0.5555555555555556,
              "#d8576b"
             ],
             [
              0.6666666666666666,
              "#ed7953"
             ],
             [
              0.7777777777777778,
              "#fb9f3a"
             ],
             [
              0.8888888888888888,
              "#fdca26"
             ],
             [
              1,
              "#f0f921"
             ]
            ],
            "type": "heatmapgl"
           }
          ],
          "histogram": [
           {
            "marker": {
             "pattern": {
              "fillmode": "overlay",
              "size": 10,
              "solidity": 0.2
             }
            },
            "type": "histogram"
           }
          ],
          "histogram2d": [
           {
            "colorbar": {
             "outlinewidth": 0,
             "ticks": ""
            },
            "colorscale": [
             [
              0,
              "#0d0887"
             ],
             [
              0.1111111111111111,
              "#46039f"
             ],
             [
              0.2222222222222222,
              "#7201a8"
             ],
             [
              0.3333333333333333,
              "#9c179e"
             ],
             [
              0.4444444444444444,
              "#bd3786"
             ],
             [
              0.5555555555555556,
              "#d8576b"
             ],
             [
              0.6666666666666666,
              "#ed7953"
             ],
             [
              0.7777777777777778,
              "#fb9f3a"
             ],
             [
              0.8888888888888888,
              "#fdca26"
             ],
             [
              1,
              "#f0f921"
             ]
            ],
            "type": "histogram2d"
           }
          ],
          "histogram2dcontour": [
           {
            "colorbar": {
             "outlinewidth": 0,
             "ticks": ""
            },
            "colorscale": [
             [
              0,
              "#0d0887"
             ],
             [
              0.1111111111111111,
              "#46039f"
             ],
             [
              0.2222222222222222,
              "#7201a8"
             ],
             [
              0.3333333333333333,
              "#9c179e"
             ],
             [
              0.4444444444444444,
              "#bd3786"
             ],
             [
              0.5555555555555556,
              "#d8576b"
             ],
             [
              0.6666666666666666,
              "#ed7953"
             ],
             [
              0.7777777777777778,
              "#fb9f3a"
             ],
             [
              0.8888888888888888,
              "#fdca26"
             ],
             [
              1,
              "#f0f921"
             ]
            ],
            "type": "histogram2dcontour"
           }
          ],
          "mesh3d": [
           {
            "colorbar": {
             "outlinewidth": 0,
             "ticks": ""
            },
            "type": "mesh3d"
           }
          ],
          "parcoords": [
           {
            "line": {
             "colorbar": {
              "outlinewidth": 0,
              "ticks": ""
             }
            },
            "type": "parcoords"
           }
          ],
          "pie": [
           {
            "automargin": true,
            "type": "pie"
           }
          ],
          "scatter": [
           {
            "marker": {
             "colorbar": {
              "outlinewidth": 0,
              "ticks": ""
             }
            },
            "type": "scatter"
           }
          ],
          "scatter3d": [
           {
            "line": {
             "colorbar": {
              "outlinewidth": 0,
              "ticks": ""
             }
            },
            "marker": {
             "colorbar": {
              "outlinewidth": 0,
              "ticks": ""
             }
            },
            "type": "scatter3d"
           }
          ],
          "scattercarpet": [
           {
            "marker": {
             "colorbar": {
              "outlinewidth": 0,
              "ticks": ""
             }
            },
            "type": "scattercarpet"
           }
          ],
          "scattergeo": [
           {
            "marker": {
             "colorbar": {
              "outlinewidth": 0,
              "ticks": ""
             }
            },
            "type": "scattergeo"
           }
          ],
          "scattergl": [
           {
            "marker": {
             "colorbar": {
              "outlinewidth": 0,
              "ticks": ""
             }
            },
            "type": "scattergl"
           }
          ],
          "scattermapbox": [
           {
            "marker": {
             "colorbar": {
              "outlinewidth": 0,
              "ticks": ""
             }
            },
            "type": "scattermapbox"
           }
          ],
          "scatterpolar": [
           {
            "marker": {
             "colorbar": {
              "outlinewidth": 0,
              "ticks": ""
             }
            },
            "type": "scatterpolar"
           }
          ],
          "scatterpolargl": [
           {
            "marker": {
             "colorbar": {
              "outlinewidth": 0,
              "ticks": ""
             }
            },
            "type": "scatterpolargl"
           }
          ],
          "scatterternary": [
           {
            "marker": {
             "colorbar": {
              "outlinewidth": 0,
              "ticks": ""
             }
            },
            "type": "scatterternary"
           }
          ],
          "surface": [
           {
            "colorbar": {
             "outlinewidth": 0,
             "ticks": ""
            },
            "colorscale": [
             [
              0,
              "#0d0887"
             ],
             [
              0.1111111111111111,
              "#46039f"
             ],
             [
              0.2222222222222222,
              "#7201a8"
             ],
             [
              0.3333333333333333,
              "#9c179e"
             ],
             [
              0.4444444444444444,
              "#bd3786"
             ],
             [
              0.5555555555555556,
              "#d8576b"
             ],
             [
              0.6666666666666666,
              "#ed7953"
             ],
             [
              0.7777777777777778,
              "#fb9f3a"
             ],
             [
              0.8888888888888888,
              "#fdca26"
             ],
             [
              1,
              "#f0f921"
             ]
            ],
            "type": "surface"
           }
          ],
          "table": [
           {
            "cells": {
             "fill": {
              "color": "#EBF0F8"
             },
             "line": {
              "color": "white"
             }
            },
            "header": {
             "fill": {
              "color": "#C8D4E3"
             },
             "line": {
              "color": "white"
             }
            },
            "type": "table"
           }
          ]
         },
         "layout": {
          "annotationdefaults": {
           "arrowcolor": "#2a3f5f",
           "arrowhead": 0,
           "arrowwidth": 1
          },
          "autotypenumbers": "strict",
          "coloraxis": {
           "colorbar": {
            "outlinewidth": 0,
            "ticks": ""
           }
          },
          "colorscale": {
           "diverging": [
            [
             0,
             "#8e0152"
            ],
            [
             0.1,
             "#c51b7d"
            ],
            [
             0.2,
             "#de77ae"
            ],
            [
             0.3,
             "#f1b6da"
            ],
            [
             0.4,
             "#fde0ef"
            ],
            [
             0.5,
             "#f7f7f7"
            ],
            [
             0.6,
             "#e6f5d0"
            ],
            [
             0.7,
             "#b8e186"
            ],
            [
             0.8,
             "#7fbc41"
            ],
            [
             0.9,
             "#4d9221"
            ],
            [
             1,
             "#276419"
            ]
           ],
           "sequential": [
            [
             0,
             "#0d0887"
            ],
            [
             0.1111111111111111,
             "#46039f"
            ],
            [
             0.2222222222222222,
             "#7201a8"
            ],
            [
             0.3333333333333333,
             "#9c179e"
            ],
            [
             0.4444444444444444,
             "#bd3786"
            ],
            [
             0.5555555555555556,
             "#d8576b"
            ],
            [
             0.6666666666666666,
             "#ed7953"
            ],
            [
             0.7777777777777778,
             "#fb9f3a"
            ],
            [
             0.8888888888888888,
             "#fdca26"
            ],
            [
             1,
             "#f0f921"
            ]
           ],
           "sequentialminus": [
            [
             0,
             "#0d0887"
            ],
            [
             0.1111111111111111,
             "#46039f"
            ],
            [
             0.2222222222222222,
             "#7201a8"
            ],
            [
             0.3333333333333333,
             "#9c179e"
            ],
            [
             0.4444444444444444,
             "#bd3786"
            ],
            [
             0.5555555555555556,
             "#d8576b"
            ],
            [
             0.6666666666666666,
             "#ed7953"
            ],
            [
             0.7777777777777778,
             "#fb9f3a"
            ],
            [
             0.8888888888888888,
             "#fdca26"
            ],
            [
             1,
             "#f0f921"
            ]
           ]
          },
          "colorway": [
           "#636efa",
           "#EF553B",
           "#00cc96",
           "#ab63fa",
           "#FFA15A",
           "#19d3f3",
           "#FF6692",
           "#B6E880",
           "#FF97FF",
           "#FECB52"
          ],
          "font": {
           "color": "#2a3f5f"
          },
          "geo": {
           "bgcolor": "white",
           "lakecolor": "white",
           "landcolor": "#E5ECF6",
           "showlakes": true,
           "showland": true,
           "subunitcolor": "white"
          },
          "hoverlabel": {
           "align": "left"
          },
          "hovermode": "closest",
          "mapbox": {
           "style": "light"
          },
          "paper_bgcolor": "white",
          "plot_bgcolor": "#E5ECF6",
          "polar": {
           "angularaxis": {
            "gridcolor": "white",
            "linecolor": "white",
            "ticks": ""
           },
           "bgcolor": "#E5ECF6",
           "radialaxis": {
            "gridcolor": "white",
            "linecolor": "white",
            "ticks": ""
           }
          },
          "scene": {
           "xaxis": {
            "backgroundcolor": "#E5ECF6",
            "gridcolor": "white",
            "gridwidth": 2,
            "linecolor": "white",
            "showbackground": true,
            "ticks": "",
            "zerolinecolor": "white"
           },
           "yaxis": {
            "backgroundcolor": "#E5ECF6",
            "gridcolor": "white",
            "gridwidth": 2,
            "linecolor": "white",
            "showbackground": true,
            "ticks": "",
            "zerolinecolor": "white"
           },
           "zaxis": {
            "backgroundcolor": "#E5ECF6",
            "gridcolor": "white",
            "gridwidth": 2,
            "linecolor": "white",
            "showbackground": true,
            "ticks": "",
            "zerolinecolor": "white"
           }
          },
          "shapedefaults": {
           "line": {
            "color": "#2a3f5f"
           }
          },
          "ternary": {
           "aaxis": {
            "gridcolor": "white",
            "linecolor": "white",
            "ticks": ""
           },
           "baxis": {
            "gridcolor": "white",
            "linecolor": "white",
            "ticks": ""
           },
           "bgcolor": "#E5ECF6",
           "caxis": {
            "gridcolor": "white",
            "linecolor": "white",
            "ticks": ""
           }
          },
          "title": {
           "x": 0.05
          },
          "xaxis": {
           "automargin": true,
           "gridcolor": "white",
           "linecolor": "white",
           "ticks": "",
           "title": {
            "standoff": 15
           },
           "zerolinecolor": "white",
           "zerolinewidth": 2
          },
          "yaxis": {
           "automargin": true,
           "gridcolor": "white",
           "linecolor": "white",
           "ticks": "",
           "title": {
            "standoff": 15
           },
           "zerolinecolor": "white",
           "zerolinewidth": 2
          }
         }
        },
        "title": {
         "text": "Distribution of Sentiment Types by Channel"
        },
        "xaxis": {
         "anchor": "y",
         "autorange": true,
         "categoryorder": "total descending",
         "domain": [
          0,
          1
         ],
         "range": [
          -0.5,
          6.5
         ],
         "title": {
          "text": "Channel"
         },
         "type": "category"
        },
        "yaxis": {
         "anchor": "x",
         "autorange": true,
         "domain": [
          0,
          1
         ],
         "range": [
          0,
          5552.631578947368
         ],
         "title": {
          "text": "Number of Messages"
         },
         "type": "linear"
        }
       }
      },
      "image/png": "[encoded data removed]",
      "text/html": [
       "<div>                            <div id=\"d551bf25-5efe-4836-935a-fbbcd81468a6\" class=\"plotly-graph-div\" style=\"height:525px; width:100%;\"></div>            <script type=\"text/javascript\">                require([\"plotly\"], function(Plotly) {                    window.PLOTLYENV=window.PLOTLYENV || {};                                    if (document.getElementById(\"d551bf25-5efe-4836-935a-fbbcd81468a6\")) {                    Plotly.newPlot(                        \"d551bf25-5efe-4836-935a-fbbcd81468a6\",                        [{\"alignmentgroup\":\"True\",\"hovertemplate\":\"Sentiment Type=NEGATIVE<br>Channel=%{x}<br>Number of Messages=%{y}<extra></extra>\",\"legendgroup\":\"NEGATIVE\",\"marker\":{\"color\":\"red\",\"pattern\":{\"shape\":\"\"}},\"name\":\"NEGATIVE\",\"offsetgroup\":\"NEGATIVE\",\"orientation\":\"v\",\"showlegend\":true,\"textposition\":\"auto\",\"x\":[\"BitcoinBullets\",\"VerifiedCryptoNews\",\"binancekillers\",\"binancesignals\",\"universalcryptosignals\",\"wolfoftrading\"],\"xaxis\":\"x\",\"y\":[285,149,427,704,4,475],\"yaxis\":\"y\",\"type\":\"bar\"},{\"alignmentgroup\":\"True\",\"hovertemplate\":\"Sentiment Type=NEUTRAL<br>Channel=%{x}<br>Number of Messages=%{y}<extra></extra>\",\"legendgroup\":\"NEUTRAL\",\"marker\":{\"color\":\"orange\",\"pattern\":{\"shape\":\"\"}},\"name\":\"NEUTRAL\",\"offsetgroup\":\"NEUTRAL\",\"orientation\":\"v\",\"showlegend\":true,\"textposition\":\"auto\",\"x\":[\"BitcoinBullets\",\"CryptoScanner100eyes\",\"VerifiedCryptoNews\",\"binancekillers\",\"binancesignals\",\"wolfoftrading\"],\"xaxis\":\"x\",\"y\":[1216,249,222,1116,642,434],\"yaxis\":\"y\",\"type\":\"bar\"},{\"alignmentgroup\":\"True\",\"hovertemplate\":\"Sentiment Type=POSITIVE<br>Channel=%{x}<br>Number of Messages=%{y}<extra></extra>\",\"legendgroup\":\"POSITIVE\",\"marker\":{\"color\":\"green\",\"pattern\":{\"shape\":\"\"}},\"name\":\"POSITIVE\",\"offsetgroup\":\"POSITIVE\",\"orientation\":\"v\",\"showlegend\":true,\"textposition\":\"auto\",\"x\":[\"BitcoinBullets\",\"CryptoScanner100eyes\",\"VerifiedCryptoNews\",\"binancekillers\",\"binancesignals\",\"universalcryptosignals\",\"wolfoftrading\"],\"xaxis\":\"x\",\"y\":[2291,344,450,3732,1136,13,823],\"yaxis\":\"y\",\"type\":\"bar\"}],                        {\"template\":{\"data\":{\"bar\":[{\"error_x\":{\"color\":\"#2a3f5f\"},\"error_y\":{\"color\":\"#2a3f5f\"},\"marker\":{\"line\":{\"color\":\"#E5ECF6\",\"width\":0.5},\"pattern\":{\"fillmode\":\"overlay\",\"size\":10,\"solidity\":0.2}},\"type\":\"bar\"}],\"barpolar\":[{\"marker\":{\"line\":{\"color\":\"#E5ECF6\",\"width\":0.5},\"pattern\":{\"fillmode\":\"overlay\",\"size\":10,\"solidity\":0.2}},\"type\":\"barpolar\"}],\"carpet\":[{\"aaxis\":{\"endlinecolor\":\"#2a3f5f\",\"gridcolor\":\"white\",\"linecolor\":\"white\",\"minorgridcolor\":\"white\",\"startlinecolor\":\"#2a3f5f\"},\"baxis\":{\"endlinecolor\":\"#2a3f5f\",\"gridcolor\":\"white\",\"linecolor\":\"white\",\"minorgridcolor\":\"white\",\"startlinecolor\":\"#2a3f5f\"},\"type\":\"carpet\"}],\"choropleth\":[{\"colorbar\":{\"outlinewidth\":0,\"ticks\":\"\"},\"type\":\"choropleth\"}],\"contour\":[{\"colorbar\":{\"outlinewidth\":0,\"ticks\":\"\"},\"colorscale\":[[0.0,\"#0d0887\"],[0.1111111111111111,\"#46039f\"],[0.2222222222222222,\"#7201a8\"],[0.3333333333333333,\"#9c179e\"],[0.4444444444444444,\"#bd3786\"],[0.5555555555555556,\"#d8576b\"],[0.6666666666666666,\"#ed7953\"],[0.7777777777777778,\"#fb9f3a\"],[0.8888888888888888,\"#fdca26\"],[1.0,\"#f0f921\"]],\"type\":\"contour\"}],\"contourcarpet\":[{\"colorbar\":{\"outlinewidth\":0,\"ticks\":\"\"},\"type\":\"contourcarpet\"}],\"heatmap\":[{\"colorbar\":{\"outlinewidth\":0,\"ticks\":\"\"},\"colorscale\":[[0.0,\"#0d0887\"],[0.1111111111111111,\"#46039f\"],[0.2222222222222222,\"#7201a8\"],[0.3333333333333333,\"#9c179e\"],[0.4444444444444444,\"#bd3786\"],[0.5555555555555556,\"#d8576b\"],[0.6666666666666666,\"#ed7953\"],[0.7777777777777778,\"#fb9f3a\"],[0.8888888888888888,\"#fdca26\"],[1.0,\"#f0f921\"]],\"type\":\"heatmap\"}],\"heatmapgl\":[{\"colorbar\":{\"outlinewidth\":0,\"ticks\":\"\"},\"colorscale\":[[0.0,\"#0d0887\"],[0.1111111111111111,\"#46039f\"],[0.2222222222222222,\"#7201a8\"],[0.3333333333333333,\"#9c179e\"],[0.4444444444444444,\"#bd3786\"],[0.5555555555555556,\"#d8576b\"],[0.6666666666666666,\"#ed7953\"],[0.7777777777777778,\"#fb9f3a\"],[0.8888888888888888,\"#fdca26\"],[1.0,\"#f0f921\"]],\"type\":\"heatmapgl\"}],\"histogram\":[{\"marker\":{\"pattern\":{\"fillmode\":\"overlay\",\"size\":10,\"solidity\":0.2}},\"type\":\"histogram\"}],\"histogram2d\":[{\"colorbar\":{\"outlinewidth\":0,\"ticks\":\"\"},\"colorscale\":[[0.0,\"#0d0887\"],[0.1111111111111111,\"#46039f\"],[0.2222222222222222,\"#7201a8\"],[0.3333333333333333,\"#9c179e\"],[0.4444444444444444,\"#bd3786\"],[0.5555555555555556,\"#d8576b\"],[0.6666666666666666,\"#ed7953\"],[0.7777777777777778,\"#fb9f3a\"],[0.8888888888888888,\"#fdca26\"],[1.0,\"#f0f921\"]],\"type\":\"histogram2d\"}],\"histogram2dcontour\":[{\"colorbar\":{\"outlinewidth\":0,\"ticks\":\"\"},\"colorscale\":[[0.0,\"#0d0887\"],[0.1111111111111111,\"#46039f\"],[0.2222222222222222,\"#7201a8\"],[0.3333333333333333,\"#9c179e\"],[0.4444444444444444,\"#bd3786\"],[0.5555555555555556,\"#d8576b\"],[0.6666666666666666,\"#ed7953\"],[0.7777777777777778,\"#fb9f3a\"],[0.8888888888888888,\"#fdca26\"],[1.0,\"#f0f921\"]],\"type\":\"histogram2dcontour\"}],\"mesh3d\":[{\"colorbar\":{\"outlinewidth\":0,\"ticks\":\"\"},\"type\":\"mesh3d\"}],\"parcoords\":[{\"line\":{\"colorbar\":{\"outlinewidth\":0,\"ticks\":\"\"}},\"type\":\"parcoords\"}],\"pie\":[{\"automargin\":true,\"type\":\"pie\"}],\"scatter\":[{\"marker\":{\"colorbar\":{\"outlinewidth\":0,\"ticks\":\"\"}},\"type\":\"scatter\"}],\"scatter3d\":[{\"line\":{\"colorbar\":{\"outlinewidth\":0,\"ticks\":\"\"}},\"marker\":{\"colorbar\":{\"outlinewidth\":0,\"ticks\":\"\"}},\"type\":\"scatter3d\"}],\"scattercarpet\":[{\"marker\":{\"colorbar\":{\"outlinewidth\":0,\"ticks\":\"\"}},\"type\":\"scattercarpet\"}],\"scattergeo\":[{\"marker\":{\"colorbar\":{\"outlinewidth\":0,\"ticks\":\"\"}},\"type\":\"scattergeo\"}],\"scattergl\":[{\"marker\":{\"colorbar\":{\"outlinewidth\":0,\"ticks\":\"\"}},\"type\":\"scattergl\"}],\"scattermapbox\":[{\"marker\":{\"colorbar\":{\"outlinewidth\":0,\"ticks\":\"\"}},\"type\":\"scattermapbox\"}],\"scatterpolar\":[{\"marker\":{\"colorbar\":{\"outlinewidth\":0,\"ticks\":\"\"}},\"type\":\"scatterpolar\"}],\"scatterpolargl\":[{\"marker\":{\"colorbar\":{\"outlinewidth\":0,\"ticks\":\"\"}},\"type\":\"scatterpolargl\"}],\"scatterternary\":[{\"marker\":{\"colorbar\":{\"outlinewidth\":0,\"ticks\":\"\"}},\"type\":\"scatterternary\"}],\"surface\":[{\"colorbar\":{\"outlinewidth\":0,\"ticks\":\"\"},\"colorscale\":[[0.0,\"#0d0887\"],[0.1111111111111111,\"#46039f\"],[0.2222222222222222,\"#7201a8\"],[0.3333333333333333,\"#9c179e\"],[0.4444444444444444,\"#bd3786\"],[0.5555555555555556,\"#d8576b\"],[0.6666666666666666,\"#ed7953\"],[0.7777777777777778,\"#fb9f3a\"],[0.8888888888888888,\"#fdca26\"],[1.0,\"#f0f921\"]],\"type\":\"surface\"}],\"table\":[{\"cells\":{\"fill\":{\"color\":\"#EBF0F8\"},\"line\":{\"color\":\"white\"}},\"header\":{\"fill\":{\"color\":\"#C8D4E3\"},\"line\":{\"color\":\"white\"}},\"type\":\"table\"}]},\"layout\":{\"annotationdefaults\":{\"arrowcolor\":\"#2a3f5f\",\"arrowhead\":0,\"arrowwidth\":1},\"autotypenumbers\":\"strict\",\"coloraxis\":{\"colorbar\":{\"outlinewidth\":0,\"ticks\":\"\"}},\"colorscale\":{\"diverging\":[[0,\"#8e0152\"],[0.1,\"#c51b7d\"],[0.2,\"#de77ae\"],[0.3,\"#f1b6da\"],[0.4,\"#fde0ef\"],[0.5,\"#f7f7f7\"],[0.6,\"#e6f5d0\"],[0.7,\"#b8e186\"],[0.8,\"#7fbc41\"],[0.9,\"#4d9221\"],[1,\"#276419\"]],\"sequential\":[[0.0,\"#0d0887\"],[0.1111111111111111,\"#46039f\"],[0.2222222222222222,\"#7201a8\"],[0.3333333333333333,\"#9c179e\"],[0.4444444444444444,\"#bd3786\"],[0.5555555555555556,\"#d8576b\"],[0.6666666666666666,\"#ed7953\"],[0.7777777777777778,\"#fb9f3a\"],[0.8888888888888888,\"#fdca26\"],[1.0,\"#f0f921\"]],\"sequentialminus\":[[0.0,\"#0d0887\"],[0.1111111111111111,\"#46039f\"],[0.2222222222222222,\"#7201a8\"],[0.3333333333333333,\"#9c179e\"],[0.4444444444444444,\"#bd3786\"],[0.5555555555555556,\"#d8576b\"],[0.6666666666666666,\"#ed7953\"],[0.7777777777777778,\"#fb9f3a\"],[0.8888888888888888,\"#fdca26\"],[1.0,\"#f0f921\"]]},\"colorway\":[\"#636efa\",\"#EF553B\",\"#00cc96\",\"#ab63fa\",\"#FFA15A\",\"#19d3f3\",\"#FF6692\",\"#B6E880\",\"#FF97FF\",\"#FECB52\"],\"font\":{\"color\":\"#2a3f5f\"},\"geo\":{\"bgcolor\":\"white\",\"lakecolor\":\"white\",\"landcolor\":\"#E5ECF6\",\"showlakes\":true,\"showland\":true,\"subunitcolor\":\"white\"},\"hoverlabel\":{\"align\":\"left\"},\"hovermode\":\"closest\",\"mapbox\":{\"style\":\"light\"},\"paper_bgcolor\":\"white\",\"plot_bgcolor\":\"#E5ECF6\",\"polar\":{\"angularaxis\":{\"gridcolor\":\"white\",\"linecolor\":\"white\",\"ticks\":\"\"},\"bgcolor\":\"#E5ECF6\",\"radialaxis\":{\"gridcolor\":\"white\",\"linecolor\":\"white\",\"ticks\":\"\"}},\"scene\":{\"xaxis\":{\"backgroundcolor\":\"#E5ECF6\",\"gridcolor\":\"white\",\"gridwidth\":2,\"linecolor\":\"white\",\"showbackground\":true,\"ticks\":\"\",\"zerolinecolor\":\"white\"},\"yaxis\":{\"backgroundcolor\":\"#E5ECF6\",\"gridcolor\":\"white\",\"gridwidth\":2,\"linecolor\":\"white\",\"showbackground\":true,\"ticks\":\"\",\"zerolinecolor\":\"white\"},\"zaxis\":{\"backgroundcolor\":\"#E5ECF6\",\"gridcolor\":\"white\",\"gridwidth\":2,\"linecolor\":\"white\",\"showbackground\":true,\"ticks\":\"\",\"zerolinecolor\":\"white\"}},\"shapedefaults\":{\"line\":{\"color\":\"#2a3f5f\"}},\"ternary\":{\"aaxis\":{\"gridcolor\":\"white\",\"linecolor\":\"white\",\"ticks\":\"\"},\"baxis\":{\"gridcolor\":\"white\",\"linecolor\":\"white\",\"ticks\":\"\"},\"bgcolor\":\"#E5ECF6\",\"caxis\":{\"gridcolor\":\"white\",\"linecolor\":\"white\",\"ticks\":\"\"}},\"title\":{\"x\":0.05},\"xaxis\":{\"automargin\":true,\"gridcolor\":\"white\",\"linecolor\":\"white\",\"ticks\":\"\",\"title\":{\"standoff\":15},\"zerolinecolor\":\"white\",\"zerolinewidth\":2},\"yaxis\":{\"automargin\":true,\"gridcolor\":\"white\",\"linecolor\":\"white\",\"ticks\":\"\",\"title\":{\"standoff\":15},\"zerolinecolor\":\"white\",\"zerolinewidth\":2}}},\"xaxis\":{\"anchor\":\"y\",\"domain\":[0.0,1.0],\"title\":{\"text\":\"Channel\"},\"categoryorder\":\"total descending\"},\"yaxis\":{\"anchor\":\"x\",\"domain\":[0.0,1.0],\"title\":{\"text\":\"Number of Messages\"}},\"legend\":{\"title\":{\"text\":\"Sentiment Type\"},\"tracegroupgap\":0},\"title\":{\"text\":\"Distribution of Sentiment Types by Channel\"},\"barmode\":\"stack\"},                        {\"responsive\": true}                    ).then(function(){\n",
       "                            \n",
       "var gd = document.getElementById('d551bf25-5efe-4836-935a-fbbcd81468a6');\n",
       "var x = new MutationObserver(function (mutations, observer) {{\n",
       "        var display = window.getComputedStyle(gd).display;\n",
       "        if (!display || display === 'none') {{\n",
       "            console.log([gd, 'removed!']);\n",
       "            Plotly.purge(gd);\n",
       "            observer.disconnect();\n",
       "        }}\n",
       "}});\n",
       "\n",
       "// Listen for the removal of the full notebook cells\n",
       "var notebookContainer = gd.closest('#notebook-container');\n",
       "if (notebookContainer) {{\n",
       "    x.observe(notebookContainer, {childList: true});\n",
       "}}\n",
       "\n",
       "// Listen for the clearing of the current output cell\n",
       "var outputEl = gd.closest('.output');\n",
       "if (outputEl) {{\n",
       "    x.observe(outputEl, {childList: true});\n",
       "}}\n",
       "\n",
       "                        })                };                });            </script>        </div>"
      ]
     },
     "metadata": {},
     "output_type": "display_data"
    }
   ],
   "source": [
    "import plotly.express as px\n",
    "\n",
    "# Calculate the number of messages for each sentiment type in each channel\n",
    "sentiment_counts_per_channel = telegram_df.groupby(['channel', 'sentiment_type']).size().reset_index(name='count')\n",
    "\n",
    "# Create an interactive stacked bar chart with Plotly Express\n",
    "fig = px.bar(sentiment_counts_per_channel, x='channel', y='count', color='sentiment_type',\n",
    "             title='Distribution of Sentiment Types by Channel',\n",
    "             labels={'count': 'Number of Messages', 'channel': 'Channel', 'sentiment_type': 'Sentiment Type'},\n",
    "             color_discrete_map={'POSITIVE': 'green', 'NEGATIVE': 'red', 'NEUTRAL': 'orange'})\n",
    "\n",
    "# Improve the layout of the chart for better visualization\n",
    "fig.update_layout(xaxis_title='Channel',\n",
    "                  yaxis_title='Number of Messages',\n",
    "                  legend_title='Sentiment Type',\n",
    "                  xaxis={'categoryorder':'total descending'},\n",
    "                  barmode='stack')\n",
    "\n",
    "# Show the chart\n",
    "fig.show()\n"
   ]
  },
  {
   "cell_type": "code",
   "execution_count": null,
   "id": "aware-injection",
   "metadata": {},
   "outputs": [],
   "source": []
  }
 ],
 "metadata": {
  "kernelspec": {
   "display_name": "Python 3",
   "language": "python",
   "name": "python3"
  },
  "language_info": {
   "codemirror_mode": {
    "name": "ipython",
    "version": 3
   },
   "file_extension": ".py",
   "mimetype": "text/x-python",
   "name": "python",
   "nbconvert_exporter": "python",
   "pygments_lexer": "ipython3",
   "version": "3.8.5"
  }
 },
 "nbformat": 4,
 "nbformat_minor": 5
}
